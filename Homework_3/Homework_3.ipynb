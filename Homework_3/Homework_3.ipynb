{
 "cells": [
  {
   "cell_type": "code",
   "execution_count": null,
   "metadata": {},
   "outputs": [],
   "source": [
    "from scipy import stats\n",
    "import numpy as np"
   ]
  },
  {
   "cell_type": "markdown",
   "metadata": {},
   "source": [
    "# Stat 88, Summer 2021: Homework 3 #"
   ]
  },
  {
   "cell_type": "markdown",
   "metadata": {},
   "source": [
    "## 1. Min and Sum ##\n",
    "\n",
    "Two draws are made at random **without** replacement from the digits $\\{1, 2, 3, 4\\}$. Let $X_1$ be the first digit drawn and $X_2$ the second.\n",
    "\n",
    "Let $M = \\min(X_1, X_2)$ and $S = X_1 + X_2$.\n",
    "\n",
    "**a)** Find $E(S)$.\n",
    "\n",
    "**b)** Make a joint distribution table for $M$ and $S$.\n",
    "\n",
    "**c)** Use the table in Part **b** to find the distribution of $M$.\n",
    "\n",
    "**d)** Find $E(M)$."
   ]
  },
  {
   "cell_type": "markdown",
   "metadata": {},
   "source": [
    "## 2. Multiple Choice ##\n",
    "\n",
    "A standardized test consists of 100 multiple-choice questions. Each question has **five** possible answers, only one of which is correct. Four points are awarded for each correct answer. To discourage guessing, one point is taken away for every answer that is not correct (this includes answers that are missing).\n",
    "\n",
    "The company that creates the test has to understand how well a student could do just by random guessing. Suppose a student answers each question by picking one of the five choices at random independently of the choices on all other questions. Let $S$ be the student's score on the test.\n",
    "\n",
    "**a)** Find $E(S)$.\n",
    "\n",
    "**b)** Find $P(S > 10)$. Write your answer as a math expression, then use the code cell below to find its numerical value and provide it along with your math expression."
   ]
  },
  {
   "cell_type": "code",
   "execution_count": 4,
   "metadata": {},
   "outputs": [],
   "source": [
    "# code cell for Exercise 2 numerical calculations\n"
   ]
  },
  {
   "cell_type": "markdown",
   "metadata": {},
   "source": [
    "## 3. Ice Cream Truck ##\n",
    "\n",
    "An ice cream truck has **ten** different flavors of popsicles. Suppose $n$ customers each pick a flavor at random, independently of the choices of others. In each part below, find the expectation of the described random variable.\n",
    "\n",
    "**a)** the number of flavors that are not picked\n",
    "\n",
    "**b)** the number of flavors that are picked\n",
    "\n",
    "**c)** the number of flavors that are picked by more than one customer"
   ]
  },
  {
   "cell_type": "markdown",
   "metadata": {},
   "source": [
    "## 4. Eluding Capture ##\n",
    "\n",
    "A large pond contains $f$ fish, of which $t$ have been tagged. Biologist A takes a simple random sample of $n_A$ fish from the pond. Biologist B takes a simple random sample of $n_B$ fish from the fish that remain in the pond after Biologist A has drawn her sample. You can assume that $n_A + n_B < t$.\n",
    "\n",
    "**a)** Fill in the blank with a math expression involving any or all of $f$, $t$, $n_A$, and $n_B$. **Explain your answer.**\n",
    "\n",
    "The number of tagged fish in Biologist A's sample has expectation $\\underline{~~~~~~~~~~~~~~~~~~~~~~~~~~~~~~~}$.\n",
    "\n",
    "**b)**  Fill in the blank (carefully!) with a math expression involving any or all of $f$, $t$, $n_A$, and $n_B$. **Explain your answer.**\n",
    "\n",
    "The number of tagged fish in Biologist B's sample has expectation $\\underline{~~~~~~~~~~~~~~~~~~~~~~~~~~~~~~~}$.\n",
    "\n",
    "**c)** Fill in the blank with a math expression involving any or all of $f$, $t$, $n_A$, and $n_B$. **Explain your answer.**\n",
    "\n",
    "The number of tagged fish that don't get into the samples has expectation $\\underline{~~~~~~~~~~~~~~~~~~~~~~~~~~~~~~~}$."
   ]
  },
  {
   "cell_type": "markdown",
   "metadata": {},
   "source": [
    "## 5. Overlapping Trials ##\n",
    "\n",
    "A die that has two red faces and four green faces is tossed three times. Let $V$ be the number of times green faces show in the first two rolls, let $W$ be the number of times green faces show in the last two rolls, and let $S$ be the number of times green faces show in all three rolls.\n",
    "\n",
    "**a)** For each $w = 0, 1, 2$, find the conditional distribution of $V$ given $W=w$. Your answer should consist of three distribution tables (with reasoning or calculations, of course).\n",
    "\n",
    "**b)** Use your answer to **a** to find $E(V \\mid W = w)$ for each $w = 0, 1, 2$.\n",
    "\n",
    "**c)** Find the conditional distribution of $S$ given $W = 1$, and hence find $E(S \\mid W = 1)$.\n",
    "\n",
    "**d)** Find $E(W \\mid S = 1)$."
   ]
  },
  {
   "cell_type": "markdown",
   "metadata": {},
   "source": [
    "## 6. Sticker Collection ##\n",
    "\n",
    "Each box of Cal Crunch cereal contains a sticker. The sticker is equally likely to have one of the following five pictures on it, independently of the stickers in all other boxes.\n",
    "\n",
    "- a walking bear\n",
    "- a sleeping bear\n",
    "- the Campanile\n",
    "- Sather Gate\n",
    "- Evans Hall\n",
    "\n",
    "Stat 88 GSIs love to snack on Cal Crunch so they buy a box each week and put the sticker in their collection. In what follows, remember that \"till\" means \"up to and including\".\n",
    "\n",
    "**a)** Find the expected number of weeks till their collection has a bear sticker.\n",
    "\n",
    "**b)** Find the expected number of weeks till their collection has all five kinds of stickers.\n",
    "\n",
    "**c)** Find the expected number of weeks till their collection has a bear as well as a campus location.\n",
    "\n",
    "[They will get one of these on the first week. Remember to count that week in your calculation.]"
   ]
  },
  {
   "cell_type": "markdown",
   "metadata": {},
   "source": [
    "### 7. Folding Over ###\n",
    "\n",
    "Let $X$ have the distribution given by\n",
    "\n",
    "|$~~~~~~~~~~~~ x$| $-2$ | $-1$ | $0$ | $1$ | $2$ |\n",
    "|---------------:|:---:|:---:|:---:|:---:|:---:|\n",
    "|$P(X = x)$| $0.1$ | $0.2$ | $0.4$ | $0.2$ | $0.1$ |\n",
    "\n",
    "In what follows, you're welcome to use the code cell below to find numerical answers. You can also use a calculator if you prefer.\n",
    "\n",
    "**a)** Sketch (by hand) the probability histogram of $X$ by centering a bar of width 1 over each possible value of $X$. Find $E(X)$ and mark it on the horizontal axis.\n",
    "\n",
    "**b)** Find $SD(X)$. \n",
    "\n",
    "**c)** Sketch (by hand) the probability histogram of $\\vert X \\vert$ by centering a bar of width 1 over each possible value of $\\vert X \\vert$. Find $E(\\vert X \\vert)$ and mark it on the horizontal axis.\n",
    "\n",
    "**d)** Find $SD(\\vert X \\vert)$. "
   ]
  },
  {
   "cell_type": "markdown",
   "metadata": {},
   "source": [
    "### 8. Guessing on a Test ###\n",
    "The designers of a true-false test would like to find out how a student would perform if the student just guessed all the answers at random. (Designers of multiple-choice tests like the SAT have to consider this issue as well.)\n",
    "\n",
    "There are 100 questions on the test. One point is awarded for each correct answer and 1 point is taken away for any other kind of answer (wrong, missing, ambiguous, or anything other than correct).\n",
    "\n",
    "The test designers have figured out that the number of questions the student gets right by guessing at random has expectation 50 and SD 5.\n",
    "\n",
    "**a)** Let $W$ be the number of questions the student does not get right. Find $E(W)$ and $SD(W)$.\n",
    "\n",
    "**b)** Let $S$ be the student's score on the test. Find $E(S)$ and $SD(S)$."
   ]
  },
  {
   "cell_type": "markdown",
   "metadata": {},
   "source": [
    "## Submission Instructions     \n",
    "Please follow the directions below to properly submit your homework.\n",
    "\n",
    "*  Scan all pages of **your work** into a PDF. You can use any scanner or a phone. Please **DO NOT** simply take pictures using your phone. \n",
    "* **Please start a new page for each question. If you have already written multiple questions on the same page, you can crop the image or fold your page over (the old-fashioned way). This helps expedite grading.**\n",
    "* It is your responsibility to check that all the work on all the scanned pages is legible.\n",
    "\n",
    "\n",
    "### Submitting\n",
    "* Submit the assignment to Homework 3 on Gradescope. \n",
    "* **Make sure to assign each page of your pdf to the correct question.**\n"
   ]
  }
 ],
 "metadata": {
  "kernelspec": {
   "display_name": "Python 3 (ipykernel)",
   "language": "python",
   "name": "python3"
  },
  "language_info": {
   "codemirror_mode": {
    "name": "ipython",
    "version": 3
   },
   "file_extension": ".py",
   "mimetype": "text/x-python",
   "name": "python",
   "nbconvert_exporter": "python",
   "pygments_lexer": "ipython3",
   "version": "3.8.10"
  }
 },
 "nbformat": 4,
 "nbformat_minor": 4
}
