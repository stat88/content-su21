{
 "cells": [
  {
   "cell_type": "code",
   "execution_count": 7,
   "metadata": {
    "collapsed": true,
    "jupyter": {
     "outputs_hidden": true
    }
   },
   "outputs": [],
   "source": [
    "from datascience import *\n",
    "from prob140 import *\n",
    "%matplotlib inline\n",
    "import matplotlib.pyplot as plt\n",
    "plt.style.use('fivethirtyeight')\n",
    "import numpy as np\n",
    "from scipy import stats\n",
    "import warnings\n",
    "warnings.filterwarnings('ignore')"
   ]
  },
  {
   "cell_type": "markdown",
   "metadata": {},
   "source": [
    "# Stat 88 SU21: Homework 5 #"
   ]
  },
  {
   "cell_type": "markdown",
   "metadata": {},
   "source": [
    "## 1. Reading Test ##\n",
    "\n",
    "In 2017, the average reading score of the fourth graders in the United States was 222 points. In a simple random sample of 16,000 fourth graders taken nationally in 2019, the average reading score is 221 and the SD is 40 points. \n",
    "\n",
    "Is the national average reading score for fourth graders in 2019 different from what it was in 2017? Or is the observed difference just chance variation? Perform a test of hypotheses to answer the question, in the following steps.\n",
    "\n",
    "**a)** State an appropriate null hypothesis in non-technical terms and also as a set of assumptions about random variables.\n",
    "\n",
    "**b)** State an appropriate alternative hypothesis.\n",
    "\n",
    "**c)** What test statistic are you going to use? Justify your choice.\n",
    "\n",
    "**d)** Find an exact or approximate $p$-value.\n",
    "\n",
    "**e)** At the 5% level, what is the conclusion of the test? Why?"
   ]
  },
  {
   "cell_type": "code",
   "execution_count": 1,
   "metadata": {
    "collapsed": true,
    "jupyter": {
     "outputs_hidden": true
    }
   },
   "outputs": [],
   "source": [
    "# Code Cell for Question 1\n",
    "\n",
    "\n",
    "\n"
   ]
  },
  {
   "cell_type": "markdown",
   "metadata": {},
   "source": [
    "## 2. Ages ##\n",
    "\n",
    "In a simple random sample of size 400 drawn from a population, the average age is 40 years and the SD is 20 years. Also, 18% of the people in the sample are senior citizens. \n",
    "\n",
    "For parts a and c, show your work of how you constructed the confidence interval but use the code cell to provide a final numerical answer for the interval.\n",
    "\n",
    "**a)** Construct an approximate 95% confidence interval for the average age of the people in the population.\n",
    "\n",
    "**b)** True or false (explain): The ages of approximately 95% of the population are in the interval you found in Part **a**.\n",
    "\n",
    "**c)** Construct an approximate 95% confidence interval for the **percent** (not the proportion) of senior citizens in the population."
   ]
  },
  {
   "cell_type": "code",
   "execution_count": null,
   "metadata": {
    "collapsed": true,
    "jupyter": {
     "outputs_hidden": true
    }
   },
   "outputs": [],
   "source": [
    "# Code Cell for Question 2\n",
    "\n",
    "\n",
    "\n"
   ]
  },
  {
   "cell_type": "markdown",
   "metadata": {},
   "source": [
    "## 3. Unemployment ##\n",
    "A survey organization is estimating the percent of unemployed adults among all adults in a city. According to their calculations, an approximate 95% confidence interval for this percent is $(8\\%, 9\\%)$. You can assume that the interval was calculated correctly using the methods of our class applied to a large simple random sample of adults in the city.\n",
    "\n",
    "**a)** If possible, find the percent of unemployed adults among all adults in the city. If this is not possible, explain why not.\n",
    "\n",
    "**b)** If possible, find the percent of unemployed adults among all adults in the sample. If this is not possible, explain why not.\n",
    "\n",
    "**c)** If possible, find an approximate 99% confidence interval for the percent of unemployed adults among all adults in the city. If this is not possible, explain why not."
   ]
  },
  {
   "cell_type": "code",
   "execution_count": null,
   "metadata": {
    "collapsed": true,
    "jupyter": {
     "outputs_hidden": true
    }
   },
   "outputs": [],
   "source": [
    "# Code Cell for Question 3\n",
    "\n",
    "\n",
    "\n"
   ]
  },
  {
   "cell_type": "markdown",
   "metadata": {},
   "source": [
    "### 4. Working with Densities ###\n",
    "Let $X$ have density given by\n",
    "\n",
    "$$\n",
    "f(x) ~ = ~ \n",
    "\\begin{cases}\n",
    "c(1-x^2) ~~~ -1 < x < 1 \\\\\n",
    "0 ~~~~~~~~~~~~~~ \\text{ otherwise }\n",
    "\\end{cases}\n",
    "$$\n",
    "\n",
    "Here $c$ is a constant. \n",
    "\n",
    "**a)** Sketch (by hand) a graph of the density. It's a good idea to start by finding the values of $f$ at $x = \\pm 1$, $0$, and $\\pm 0.5$.\n",
    "\n",
    "Now find each of the following, and use a code cell if necessary to provide the numerical values as well.\n",
    "\n",
    "**b)** $c$\n",
    "\n",
    "**c)** the cdf of $X$\n",
    "\n",
    "**d)** $P(\\vert X \\vert > 0.2)$\n",
    "\n",
    "**e)** $E(X)$\n",
    "\n",
    "**f)** $SD(X)$"
   ]
  },
  {
   "cell_type": "code",
   "execution_count": 1,
   "metadata": {
    "jupyter": {
     "outputs_hidden": true
    }
   },
   "outputs": [],
   "source": [
    "### Code Cell for Problem 4\n",
    "\n",
    "\n",
    "\n"
   ]
  },
  {
   "cell_type": "markdown",
   "metadata": {},
   "source": [
    "### 5. California Earthquakes ###\n",
    "\n",
    "California is prone to earthquakes, and geostatisticians use probabilistic models to try to understand them. In this exercise, \"earthquake\" will mean an earthquake of magnitude 4.9 or greater on the Richter scale. The figure below shows the distribution of the gaps in time (measured in days) between earthquakes in California during the years 1857 to 2014. The red curve is an exponential density.\n",
    "\n",
    "![earthquake gaps](hw5_earthquakes.png)\n",
    "\n",
    "You can see why it is tempting to use an exponential model for the gaps. You can also see that it's an over-simplifcation. But it's a start. \n",
    "\n",
    "Suppose the time between two earthquakes has the exponential distribution with mean 730 days. \n",
    "\n",
    "Use `np.e` for $e$ and `np.log` for the $\\log$ function when you compute numerical values below.\n",
    "\n",
    "**a)** Find the chance that an earthquake happens within a year after the previous one. Ignore leap years; just use 365 for the number of days in a year. You are using a simplified model for data, so your answers will be rough anyway.\n",
    "\n",
    "**b)** Fill in the blank with a number:\n",
    "\n",
    "There is a 50% chance that an earthquake happens less than $\\underline{~~~~~~~~~~~~~~~}$ days after the previous one.\n",
    "\n",
    "**c)** Let $T$ be the time between two earthquakes, measured in days. Now let $X$ be $T$ measured in years, using 365 days as the length of a year. Write the relation between $T$ and $X$, and then find $P(X \\le x \\text{ years})$ for $x > 0$.\n",
    "\n",
    "**d)** Use Part **c** to identify the distribution of $X$. Provide its name, the parameter or parameters, and the expectation."
   ]
  },
  {
   "cell_type": "code",
   "execution_count": 2,
   "metadata": {
    "jupyter": {
     "outputs_hidden": true
    }
   },
   "outputs": [],
   "source": [
    "### Code Cell for Problem 5\n",
    "\n",
    "\n",
    "\n"
   ]
  },
  {
   "cell_type": "markdown",
   "metadata": {},
   "source": [
    "### 6. Minimum of Independent Exponentials ###\n",
    "\n",
    "A device has two electronic components. Let $T_1$ be the lifetime of Component 1, and suppose $T_1$ has the exponential distribution with mean 5 years. Let $T_2$ be the lifetime of Component 2, and suppose $T_2$ has the exponential distribution with mean 3 years. \n",
    "\n",
    "Suppose $T_1$ and $T_2$ are independent of each other, and let $M = \\min(T_1, T_2)$ be the minimum of the two lifetimes. In other words, $M$ is the first time one of the two components dies.\n",
    "\n",
    "**a)** For each $t > 0$, find $P(M > t)$.\n",
    "\n",
    "[Hint: If the minimum has to be bigger than $t$, what does that tell you about each of the lifetimes?]\n",
    "\n",
    "**b)** Use Part **a** to identify the distribution of $M$. Provide its name and parameter (or parameters, if there are more than one).\n",
    "\n",
    "**c)** Find the numerical value of $E(M)$."
   ]
  },
  {
   "cell_type": "code",
   "execution_count": null,
   "metadata": {
    "collapsed": true,
    "jupyter": {
     "outputs_hidden": true
    }
   },
   "outputs": [],
   "source": [
    "### Code Cell for Problem 6\n",
    "\n",
    "\n",
    "\n"
   ]
  },
  {
   "cell_type": "markdown",
   "metadata": {},
   "source": [
    "## 7. Unbiased Estimator ##\n",
    "\n",
    "The distribution of a random variable $X$ which has possible values $1$ to $4$ involves an unknown parameter $\\theta$.\n",
    "\n",
    "- $P(X = 1) = 0.2-\\theta$ \n",
    "- $P(X = 2) = 0.3-\\theta$\n",
    "- $P(X = 3) = 0.5$\n",
    "- $P(X = 4) = 2\\theta$\n",
    "\n",
    "**a)** Let $X_1, X_2, \\ldots, X_n$ be independent and identically distributed, each with the same distribution as $X$ described above. Let $\\overline{X}$ be the sample mean $(X_1 + X_2 + \\ldots + X_n)/n$. Use $\\overline{X}$ to construct an unbiased estimator of $\\theta$.\n",
    "\n",
    "**b)** Suppose that the random variables $X_1, X_2, \\ldots, X_n$ in Part **a)** were not independent but each of them still had the same distribution as $X$. In what way, if any, would this have changed your answer to Part **a**?"
   ]
  },
  {
   "cell_type": "markdown",
   "metadata": {},
   "source": [
    "## 8. Randomized Response ##\n",
    "Survey respondents understandably don't like to answer questions about sensitive topics such as illegal drug use. If data scientists want to estimate the proportion of illegal drug users in a population, they have to devise methods of getting the information they need while maintaining the privacy of the individual respondents.\n",
    "\n",
    "*Randomized response* schemes are often used in such situations. In one such scheme, each surveyed person is given a coin and asked to answer YES or NO after following these instructions out of sight of the surveyor:\n",
    "\n",
    "- Toss the coin.\n",
    "    - If it lands heads, then truthfully answer, \"Do you use illegal drugs?\"\n",
    "    - If it lands tails, then toss it again and answer, \"Did the second toss land heads?\"\n",
    "\n",
    "This way each respondent answers YES or NO but the surveyor doesn't know which question was answered. The data scientists then have to estimate the proportion of illegal drug users based on the overall proportion of YES answers, which includes the YES answers to the second question.\n",
    "\n",
    "Let the unknown proportion of illegal drug users in a large population be $p$, and suppose a random sample of size $n$ is surveyed using the scheme above. You can assume that the sampling is equivalent to drawing at random with replacement.\n",
    "\n",
    "**a)** Let $X$ be the proportion of sampled people who answer YES. Find $E(X)$.\n",
    "\n",
    "**b)** Use $X$ to construct an unbiased estimator of $p$."
   ]
  },
  {
   "cell_type": "markdown",
   "metadata": {},
   "source": [
    "## Submission Instructions     \n",
    "Please follow the directions below to properly submit your homework.\n",
    "\n",
    "*  Scan all pages of **your work** into a PDF. You can use any scanner or a phone. Please **DO NOT** simply take pictures using your phone. \n",
    "* Please start a new page for each question. If you have already written multiple questions on the same page, you can crop the image or fold your page over (the old-fashioned way). This helps expedite grading.\n",
    "* It is your responsibility to check that all the work on all the scanned pages is legible.\n",
    "\n",
    "\n",
    "### Submitting\n",
    "* Submit the assignment to Homework 5 on Gradescope. \n",
    "* **Make sure to assign each page of your pdf to the correct question.**\n"
   ]
  }
 ],
 "metadata": {
  "kernelspec": {
   "display_name": "Python 3 (ipykernel)",
   "language": "python",
   "name": "python3"
  },
  "language_info": {
   "codemirror_mode": {
    "name": "ipython",
    "version": 3
   },
   "file_extension": ".py",
   "mimetype": "text/x-python",
   "name": "python",
   "nbconvert_exporter": "python",
   "pygments_lexer": "ipython3",
   "version": "3.8.10"
  }
 },
 "nbformat": 4,
 "nbformat_minor": 4
}
