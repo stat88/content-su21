{
 "cells": [
  {
   "cell_type": "markdown",
   "metadata": {},
   "source": [
    "# Stat 88 SP21: Homework 4 #"
   ]
  },
  {
   "cell_type": "markdown",
   "metadata": {},
   "source": [
    "### 1. Making a Million ###\n",
    "\n",
    "In a city, the average annual income of adults is $\\$60,000$. This figure includes those who don't have an income. The average annual income of adults who do have an income is considerably higher: $\\$105,000$. \n",
    "\n",
    "[Note: These figures are adapted from Census Bureau estimates for [San Francisco](https://smartasset.com/retirement/average-salary-in-san-francisco).]\n",
    "\n",
    "**a)** Pick an adult at random in this city. What can you say about the chance that the selected person's income is at least a million dollars?\n",
    "\n",
    "**b)** Pick an adult at random from those in this city who have an income. What can you say about the chance that the selected person's income is at least a million dollars?"
   ]
  },
  {
   "cell_type": "markdown",
   "metadata": {},
   "source": [
    "### 2. Stuck in Traffic ###\n",
    "\n",
    "The duration of a campus worker's commute (measured in minutes) is a random variable $T$ such that $E(T) = 40$ and $SD(T) = 15$.\n",
    "\n",
    "**a)** Find the best upper bound you can on $P(T \\ge 90)$.\n",
    "\n",
    "**b)** Find the smallest $t$ you can so that $P(T < t) \\ge 99\\%$."
   ]
  },
  {
   "cell_type": "markdown",
   "metadata": {},
   "source": [
    "## 3. SDs of Old Friends ##\n",
    "\n",
    "Each part below is about a random variable $X$ whose expectation you have found earlier in the term. Now find the SD as well. The questions are restated here for your convenience.\n",
    "\n",
    "For the expectations, you can just quote the results from your earlier work. Use Chapter 6 for SD formulas for random variables with the famous distributions, and use a code cell to get the numerical values.\n",
    "\n",
    "**a) [Refer to Homework 3 Exercise 2]** A standardized test consists of 100 multiple-choice questions. Each question has five possible answers, only one of which is correct. Four points are awarded for each correct answer. To discourage guessing, one point is taken away for every answer that is not correct (this includes answers that are missing).\n",
    "\n",
    "The company that creates the test has to understand how well a student could do just by random guessing. Suppose a student answers each question by picking one of the five choices at random independently of the choices on all other questions. Let $S$ be the student's score on the test. Find $E(S)$ and $SD(S)$.\n",
    "\n",
    "**b) [Refer to Homework 3 Exercise 6b]**  Each box of Cal Crunch cereal contains a sticker. The sticker is equally likely to have one of the following five pictures on it, independently of the stickers in all other boxes: a walking bear, a sleeping bear, the Campanile, Sather Gate, Evans Hall\n",
    "\n",
    "Stat 88 GSIs love to snack on Cal Crunch so they buy a box each week and put the sticker in their collection. Find the expectation and SD of the number of weeks till their collection has all five kinds of stickers.\n",
    "\n"
   ]
  },
  {
   "cell_type": "code",
   "execution_count": null,
   "metadata": {
    "collapsed": true,
    "jupyter": {
     "outputs_hidden": true
    }
   },
   "outputs": [],
   "source": [
    "# Code Cell for Problem 3\n",
    "\n",
    "\n",
    "\n"
   ]
  },
  {
   "cell_type": "markdown",
   "metadata": {},
   "source": [
    "## 4. Family and Non-Family Households ##\n",
    "\n",
    "In the Census, each household can identify itself as either a \"family\" household or a \"non-family\" household. Examples of a non-family household are single person households and groups of students who share a house.\n",
    "\n",
    "- Alameda County has hundreds of thousands of households, of which 65% are family households. The rest are non-family households.\n",
    "- San Francisco County also has hundreds of thousands of households of which 44% are family households.\n",
    "\n",
    "A simple random sample of 400 households is taken in Alameda County. Independently, a simple random sample of 400 households is taken in San Francisco County.\n",
    "\n",
    "- In the Alameda County sample, let $A_f$ be the number of family households and $A_{nf}$ the number of non-family households. \n",
    "- In the San Francisco County sample, let $S_f$ be the number of family households.\n",
    "\n",
    "In each part below, be clear about the assumptions that you are making, and use a code cell to find the numerical values.\n",
    "\n",
    "**a)** Find the expectation and SD of $A_f - S_f$.\n",
    "\n",
    "**b)** Find the expectation and SD of $A_f - A_{nf}$."
   ]
  },
  {
   "cell_type": "code",
   "execution_count": 1,
   "metadata": {
    "jupyter": {
     "outputs_hidden": true
    }
   },
   "outputs": [],
   "source": [
    "# Code Cell for Problem 4\n",
    "\n",
    "\n",
    "\n"
   ]
  },
  {
   "cell_type": "markdown",
   "metadata": {},
   "source": [
    "## 5. Stadium Design ##\n",
    "A stadium designer has placed 900 seats in one section of the stadium. Assume that the weights of people who will occupy those seats are i.i.d. with a mean of 150 pounds and an SD of 25 pounds. \n",
    "\n",
    "Fill in the blanks with numbers and show your calculation: With chance about 95%, the total weight of people in the 900 seats will be in the range $\\underline{~~~~~~~~~~~~~~~~~~~~~} \\pm \\underline{~~~~~~~~~~~~~~~~~~~~~}$ pounds."
   ]
  },
  {
   "cell_type": "code",
   "execution_count": null,
   "metadata": {
    "collapsed": true,
    "jupyter": {
     "outputs_hidden": true
    }
   },
   "outputs": [],
   "source": [
    "# Code Cell for Problem 5\n",
    "\n",
    "\n",
    "\n"
   ]
  },
  {
   "cell_type": "markdown",
   "metadata": {},
   "source": [
    "## 6. Lengths of Phone Calls, Part I ##\n",
    "The lengths of phone calls to the receptionist of a small company are i.i.d. with a mean of 4 minutes and an SD of 10 minutes.\n",
    "\n",
    "**a)** Find or approximate the chance that the total length of the next 250 calls is less than 20 hours. \n",
    "\n",
    "**b)** Did you use the normal curve in your calculation in **a**? If so, which of the following did the curve represent and why? Pick one and explain.\n",
    "\n",
    "- (i) the distribution of the lengths of the next 250 calls\n",
    "\n",
    "- (ii) the probability distribution of the total length of the next 250 calls\n",
    "\n",
    "- (iii) the observed distribution of the total length of the next 250 calls"
   ]
  },
  {
   "cell_type": "code",
   "execution_count": null,
   "metadata": {
    "collapsed": true,
    "jupyter": {
     "outputs_hidden": true
    }
   },
   "outputs": [],
   "source": [
    "# Code Cell for Problem 6\n",
    "\n",
    "\n",
    "\n"
   ]
  },
  {
   "cell_type": "markdown",
   "metadata": {},
   "source": [
    "## 7. Lengths of Phone Calls, Part II ##\n",
    "\n",
    "As in the previous exercise, suppose the lengths of phone calls to the receptionist of a small company are i.i.d. with a mean of 4 minutes and an SD of 10 minutes.\n",
    "\n",
    "Let $X_1, X_2, \\ldots, X_n$ be the lengths of $n$ calls in minutes, and let $A_n = \\frac{1}{n} \\sum_{i=1}^n X_i$ be the sample average length.\n",
    "\n",
    "In each of the following parts, either find the chance exactly, or approximate it, or bound it. Do the best you can with the information given.\n",
    "\n",
    "**a)** $P(\\vert A_{4} - 4 \\vert < 10)$\n",
    "\n",
    "**b)** $P(\\vert A_{2500} - 4 \\vert < 0.4)$"
   ]
  },
  {
   "cell_type": "code",
   "execution_count": null,
   "metadata": {
    "collapsed": true,
    "jupyter": {
     "outputs_hidden": true
    }
   },
   "outputs": [],
   "source": [
    "# Code Cell for Problem 7\n",
    "\n",
    "\n",
    "\n"
   ]
  },
  {
   "cell_type": "markdown",
   "metadata": {},
   "source": [
    "## 8. Taste Test ##\n",
    "\n",
    "A student claims to be able to distinguish the taste of Cal Blue coffee from Cal Gold coffee, even though his friends say the two coffees are the same in appearance, aroma, and taste. The student agrees to take a blind taste test consisting of 10 trials as follows.\n",
    "\n",
    "On each trial, the student is given two identical unmarked cups (small ones!), one containing Cal Blue and the other containing Cal Gold. He is not told which is which. He has to drink the contents and say which one is Cal Blue.\n",
    "\n",
    "The student picks correctly on seven out of the 10 trials. He says that his friends now have to accept his claim. His friends say they will do no such thing because he could just have been guessing at random. \n",
    "\n",
    "Decide which position is better supported by the data, in the following steps.\n",
    "\n",
    "**a)** State an appropriate null hypothesis in non-technical terms and also as a set of assumptions about random variables.\n",
    "\n",
    "**b)** State an appropriate alternative hypothesis.\n",
    "\n",
    "**c)** What test statistic are you going to use? Justify your choice.\n",
    "\n",
    "**d)** Find an exact or approximate $p$-value.\n",
    "\n",
    "**e)** At the 5% level, what is the conlcusion of the test? Why?"
   ]
  },
  {
   "cell_type": "code",
   "execution_count": 2,
   "metadata": {
    "jupyter": {
     "outputs_hidden": true
    }
   },
   "outputs": [],
   "source": [
    "# Code Cell for Question 8\n",
    "\n",
    "\n",
    "\n"
   ]
  },
  {
   "cell_type": "markdown",
   "metadata": {},
   "source": [
    "## Submission Instructions     \n",
    "Please follow the directions below to properly submit your homework.\n",
    "\n",
    "*  Scan all pages of **your work** into a PDF. You can use any scanner or a phone. Please **DO NOT** simply take pictures using your phone. \n",
    "* Please start a new page for each question. If you have already written multiple questions on the same page, you can crop the image or fold your page over (the old-fashioned way). This helps expedite grading.\n",
    "* It is your responsibility to check that all the work on all the scanned pages is legible.\n",
    "\n",
    "\n",
    "### Submitting\n",
    "* Submit the assignment to Homework 4 on Gradescope. \n",
    "* **Make sure to assign each page of your pdf to the correct question.**\n"
   ]
  }
 ],
 "metadata": {
  "kernelspec": {
   "display_name": "Python 3 (ipykernel)",
   "language": "python",
   "name": "python3"
  },
  "language_info": {
   "codemirror_mode": {
    "name": "ipython",
    "version": 3
   },
   "file_extension": ".py",
   "mimetype": "text/x-python",
   "name": "python",
   "nbconvert_exporter": "python",
   "pygments_lexer": "ipython3",
   "version": "3.8.10"
  }
 },
 "nbformat": 4,
 "nbformat_minor": 4
}
