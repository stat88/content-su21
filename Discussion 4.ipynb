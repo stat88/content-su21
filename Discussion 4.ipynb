{
 "cells": [
  {
   "cell_type": "code",
   "execution_count": null,
   "metadata": {},
   "outputs": [],
   "source": [
    "from datascience import *\n",
    "from scipy import stats\n",
    "import numpy as np"
   ]
  },
  {
   "cell_type": "markdown",
   "metadata": {},
   "source": [
    "A randomized controlled experiment has 50 participants, of whom 20 are women. A simple random sample of 25 participants are assigned to the treatment group and the rest are assigned to the control group.\n",
    "\n",
    "a) True or False: P(treatment group has 16 women) = P(control group has 16 women)\n",
    "true by symmetry\n",
    "\n",
    "b) True or False (justify): The event \"treatment group has 16 women\" is indepenent of the event \"the control group has 16 women\"\n",
    "\n",
    "c) Write a math expression for the chance that there are at least six women in both groups. \n",
    "\n",
    "[Hint: This can be done by just thinking about the women in one of the groups]"
   ]
  },
  {
   "cell_type": "code",
   "execution_count": null,
   "metadata": {},
   "outputs": [],
   "source": [
    "#g, N, G, n\n",
    "stats.hypergeom.pmf(g, N, G, n)\n",
    "stats.hypergeom.pmf(6, 50, 20, 25)\n",
    "stats.hypergeom.pmf(np.arange(6,15,1), 50,"
   ]
  }
 ],
 "metadata": {
  "kernelspec": {
   "display_name": "Python 3",
   "language": "python",
   "name": "python3"
  },
  "language_info": {
   "codemirror_mode": {
    "name": "ipython",
    "version": 3
   },
   "file_extension": ".py",
   "mimetype": "text/x-python",
   "name": "python",
   "nbconvert_exporter": "python",
   "pygments_lexer": "ipython3",
   "version": "3.8.8"
  }
 },
 "nbformat": 4,
 "nbformat_minor": 4
}
